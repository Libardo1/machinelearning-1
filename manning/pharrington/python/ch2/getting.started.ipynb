{
 "metadata": {
  "name": "getting.started"
 }, 
 "nbformat": 2, 
 "worksheets": [
  {
   "cells": [
    {
     "cell_type": "code", 
     "collapsed": false, 
     "input": [
      "%pylab inline"
     ], 
     "language": "python", 
     "outputs": [
      {
       "output_type": "stream", 
       "stream": "stdout", 
       "text": [
        "", 
        "Welcome to pylab, a matplotlib-based Python environment [backend: module://IPython.zmq.pylab.backend_inline].", 
        "For more information, type 'help(pylab)'."
       ]
      }
     ], 
     "prompt_number": 83
    }, 
    {
     "cell_type": "markdown", 
     "source": [
      "Basic functionality: lists, dictionaries"
     ]
    }, 
    {
     "cell_type": "code", 
     "collapsed": false, 
     "input": [
      "list1 = [1,2,3]", 
      "print list1", 
      "", 
      "list1.append(2)", 
      "print list1", 
      "", 
      "print list1[2:]", 
      "", 
      "list1.remove(2)", 
      "print list1", 
      "", 
      "print type(list1)", 
      "", 
      "print len(list1)"
     ], 
     "language": "python", 
     "outputs": [
      {
       "output_type": "stream", 
       "stream": "stdout", 
       "text": [
        "[1, 2, 3]", 
        "[1, 2, 3, 2]", 
        "[3, 2]", 
        "[1, 3, 2]", 
        "<type 'list'>", 
        "3"
       ]
      }
     ], 
     "prompt_number": 48
    }, 
    {
     "cell_type": "code", 
     "collapsed": false, 
     "input": [
      "nlist1 = [[1,2,3],[3,4,5],[6,7,8]]", 
      "print nlist1", 
      "", 
      "nlist1[1][2]"
     ], 
     "language": "python", 
     "outputs": [
      {
       "output_type": "stream", 
       "stream": "stdout", 
       "text": [
        "[[1, 2, 3], [3, 4, 5], [6, 7, 8]]"
       ]
      }, 
      {
       "output_type": "pyout", 
       "prompt_number": 66, 
       "text": [
        "5"
       ]
      }
     ], 
     "prompt_number": 66
    }, 
    {
     "cell_type": "code", 
     "collapsed": true, 
     "input": [
      "import numpy as np"
     ], 
     "language": "python", 
     "outputs": [], 
     "prompt_number": 67
    }, 
    {
     "cell_type": "code", 
     "collapsed": false, 
     "input": [
      "a1=np.array(nlist1)", 
      "a1[1,2]"
     ], 
     "language": "python", 
     "outputs": [
      {
       "output_type": "pyout", 
       "prompt_number": 69, 
       "text": [
        "5"
       ]
      }
     ], 
     "prompt_number": 69
    }, 
    {
     "cell_type": "code", 
     "collapsed": false, 
     "input": [
      "np.eye(3)"
     ], 
     "language": "python", 
     "outputs": [
      {
       "output_type": "pyout", 
       "prompt_number": 71, 
       "text": [
        "array([[ 1.,  0.,  0.],", 
        "       [ 0.,  1.,  0.],", 
        "       [ 0.,  0.,  1.]])"
       ]
      }
     ], 
     "prompt_number": 71
    }, 
    {
     "cell_type": "code", 
     "collapsed": false, 
     "input": [
      "a1**2"
     ], 
     "language": "python", 
     "outputs": [
      {
       "output_type": "pyout", 
       "prompt_number": 72, 
       "text": [
        "array([[ 1,  4,  9],", 
        "       [ 9, 16, 25],", 
        "       [36, 49, 64]])"
       ]
      }
     ], 
     "prompt_number": 72
    }, 
    {
     "cell_type": "code", 
     "collapsed": false, 
     "input": [
      "a1*np.eye(3)"
     ], 
     "language": "python", 
     "outputs": [
      {
       "output_type": "pyout", 
       "prompt_number": 73, 
       "text": [
        "array([[ 1.,  0.,  0.],", 
        "       [ 0.,  4.,  0.],", 
        "       [ 0.,  0.,  8.]])"
       ]
      }
     ], 
     "prompt_number": 73
    }, 
    {
     "cell_type": "code", 
     "collapsed": false, 
     "input": [
      "np.dot(a1,np.eye(3))"
     ], 
     "language": "python", 
     "outputs": [
      {
       "output_type": "pyout", 
       "prompt_number": 76, 
       "text": [
        "array([[ 1.,  2.,  3.],", 
        "       [ 3.,  4.,  5.],", 
        "       [ 6.,  7.,  8.]])"
       ]
      }
     ], 
     "prompt_number": 76
    }, 
    {
     "cell_type": "code", 
     "collapsed": false, 
     "input": [
      "np.random.randn(1,3)"
     ], 
     "language": "python", 
     "outputs": [
      {
       "output_type": "pyout", 
       "prompt_number": 75, 
       "text": [
        "array([[-0.48269309,  0.22699368, -0.04835461]])"
       ]
      }
     ], 
     "prompt_number": 75
    }, 
    {
     "cell_type": "code", 
     "collapsed": true, 
     "input": [
      "import matplotlib.pyplot as plt"
     ], 
     "language": "python", 
     "outputs": [], 
     "prompt_number": 79
    }, 
    {
     "cell_type": "code", 
     "collapsed": false, 
     "input": [
      "gauss = np.random.randn(10000)", 
      "plt.hist(gauss,bins=100)"
     ], 
     "language": "python", 
     "outputs": [
      {
       "output_type": "pyout", 
       "prompt_number": 82, 
       "text": [
        "(array([  1,   1,   0,   0,   1,   1,   1,   2,   4,   1,   3,   8,   3,", 
        "         6,   5,   6,  12,  12,  12,  16,  11,  29,  23,  31,  35,  32,", 
        "        44,  77,  66,  80,  87, 100, 110, 128, 154, 173, 157, 204, 201,", 
        "       206, 228, 252, 250, 284, 311, 283, 290, 293, 259, 266, 306, 310,", 
        "       296, 257, 294, 266, 300, 294, 271, 237, 234, 220, 216, 169, 185,", 
        "       153, 143, 155, 113,  98,  88,  94,  69,  61,  59,  68,  53,  34,", 
        "        28,  26,  33,  12,  17,  14,  15,  10,   2,  12,   9,   4,   2,", 
        "         4,   1,   1,   3,   1,   1,   0,   2,   1]),", 
        " array([-3.87773082, -3.80149753, -3.72526423, -3.64903094, -3.57279764,", 
        "       -3.49656435, -3.42033105, -3.34409776, -3.26786446, -3.19163117,", 
        "       -3.11539787, -3.03916457, -2.96293128, -2.88669798, -2.81046469,", 
        "       -2.73423139, -2.6579981 , -2.5817648 , -2.50553151, -2.42929821,", 
        "       -2.35306492, -2.27683162, -2.20059833, -2.12436503, -2.04813174,", 
        "       -1.97189844, -1.89566514, -1.81943185, -1.74319855, -1.66696526,", 
        "       -1.59073196, -1.51449867, -1.43826537, -1.36203208, -1.28579878,", 
        "       -1.20956549, -1.13333219, -1.0570989 , -0.9808656 , -0.90463231,", 
        "       -0.82839901, -0.75216571, -0.67593242, -0.59969912, -0.52346583,", 
        "       -0.44723253, -0.37099924, -0.29476594, -0.21853265, -0.14229935,", 
        "       -0.06606606,  0.01016724,  0.08640053,  0.16263383,  0.23886712,", 
        "        0.31510042,  0.39133371,  0.46756701,  0.54380031,  0.6200336 ,", 
        "        0.6962669 ,  0.77250019,  0.84873349,  0.92496678,  1.00120008,", 
        "        1.07743337,  1.15366667,  1.22989996,  1.30613326,  1.38236655,", 
        "        1.45859985,  1.53483314,  1.61106644,  1.68729974,  1.76353303,", 
        "        1.83976633,  1.91599962,  1.99223292,  2.06846621,  2.14469951,", 
        "        2.2209328 ,  2.2971661 ,  2.37339939,  2.44963269,  2.52586598,", 
        "        2.60209928,  2.67833257,  2.75456587,  2.83079917,  2.90703246,", 
        "        2.98326576,  3.05949905,  3.13573235,  3.21196564,  3.28819894,", 
        "        3.36443223,  3.44066553,  3.51689882,  3.59313212,  3.66936541,", 
        "        3.74559871]),", 
        " <a list of 100 Patch objects>)"
       ]
      }, 
      {
       "output_type": "display_data", 
       "png": "[encoded data removed]"
      }
     ], 
     "prompt_number": 82
    }, 
    {
     "cell_type": "code", 
     "collapsed": true, 
     "input": [
      "import pandas as pd", 
      "import scipy as sp"
     ], 
     "language": "python", 
     "outputs": [], 
     "prompt_number": 26
    }, 
    {
     "cell_type": "code", 
     "collapsed": true, 
     "input": [
      "df = pd.DataFrame(np.random.randn(10,4), columns=list('ABCD'))"
     ], 
     "language": "python", 
     "outputs": [], 
     "prompt_number": 5
    }, 
    {
     "cell_type": "code", 
     "collapsed": false, 
     "input": [
      "df"
     ], 
     "language": "python", 
     "outputs": [
      {
       "output_type": "pyout", 
       "prompt_number": 6, 
       "text": [
        "          A         B         C         D", 
        "0 -1.695780 -0.748147 -0.465062  0.019933", 
        "1  1.065694  0.762975  0.474578 -1.456386", 
        "2  1.090184 -0.783491 -0.287129 -0.143959", 
        "3 -0.837097  0.857120 -0.529560 -0.367608", 
        "4 -0.428451 -0.552392 -0.341870  1.463698", 
        "5 -0.047289 -0.703735 -0.651187 -0.140419", 
        "6 -0.341004  0.196211  0.056054  1.842559", 
        "7 -0.956882  1.140685  2.396820  0.197366", 
        "8 -0.049956  1.153160  0.559159  0.631989", 
        "9 -0.584671 -1.362066 -1.875989 -1.516275"
       ]
      }
     ], 
     "prompt_number": 6
    }, 
    {
     "cell_type": "code", 
     "collapsed": true, 
     "input": [
      "x= np.array([0,1,0,0])"
     ], 
     "language": "python", 
     "outputs": [], 
     "prompt_number": 7
    }, 
    {
     "cell_type": "code", 
     "collapsed": false, 
     "input": [
      "df*x"
     ], 
     "language": "python", 
     "outputs": [
      {
       "output_type": "pyout", 
       "prompt_number": 8, 
       "text": [
        "   A         B  C  D", 
        "0 -0 -0.748147 -0  0", 
        "1  0  0.762975  0 -0", 
        "2  0 -0.783491 -0 -0", 
        "3 -0  0.857120 -0 -0", 
        "4 -0 -0.552392 -0  0", 
        "5 -0 -0.703735 -0 -0", 
        "6 -0  0.196211  0  0", 
        "7 -0  1.140685  0  0", 
        "8 -0  1.153160  0  0", 
        "9 -0 -1.362066 -0 -0"
       ]
      }
     ], 
     "prompt_number": 8
    }, 
    {
     "cell_type": "code", 
     "collapsed": false, 
     "input": [
      "df"
     ], 
     "language": "python", 
     "outputs": [
      {
       "output_type": "pyout", 
       "prompt_number": 9, 
       "text": [
        "          A         B         C         D", 
        "0 -1.695780 -0.748147 -0.465062  0.019933", 
        "1  1.065694  0.762975  0.474578 -1.456386", 
        "2  1.090184 -0.783491 -0.287129 -0.143959", 
        "3 -0.837097  0.857120 -0.529560 -0.367608", 
        "4 -0.428451 -0.552392 -0.341870  1.463698", 
        "5 -0.047289 -0.703735 -0.651187 -0.140419", 
        "6 -0.341004  0.196211  0.056054  1.842559", 
        "7 -0.956882  1.140685  2.396820  0.197366", 
        "8 -0.049956  1.153160  0.559159  0.631989", 
        "9 -0.584671 -1.362066 -1.875989 -1.516275"
       ]
      }
     ], 
     "prompt_number": 9
    }, 
    {
     "cell_type": "code", 
     "collapsed": false, 
     "input": [
      "df*df - x*x"
     ], 
     "language": "python", 
     "outputs": [
      {
       "output_type": "pyout", 
       "prompt_number": 10, 
       "text": [
        "          A         B         C         D", 
        "0  2.875671 -0.440275  0.216283  0.000397", 
        "1  1.135704 -0.417869  0.225224  2.121062", 
        "2  1.188501 -0.386142  0.082443  0.020724", 
        "3  0.700731 -0.265344  0.280433  0.135135", 
        "4  0.183570 -0.694863  0.116875  2.142412", 
        "5  0.002236 -0.504757  0.424044  0.019718", 
        "6  0.116284 -0.961501  0.003142  3.395024", 
        "7  0.915623  0.301161  5.744744  0.038953", 
        "8  0.002496  0.329778  0.312659  0.399410", 
        "9  0.341840  0.855224  3.519336  2.299090"
       ]
      }
     ], 
     "prompt_number": 10
    }, 
    {
     "cell_type": "code", 
     "collapsed": false, 
     "input": [
      "x*x"
     ], 
     "language": "python", 
     "outputs": [
      {
       "output_type": "pyout", 
       "prompt_number": 11, 
       "text": [
        "array([0, 1, 0, 0])"
       ]
      }
     ], 
     "prompt_number": 11
    }, 
    {
     "cell_type": "code", 
     "collapsed": false, 
     "input": [
      "df.std"
     ], 
     "language": "python", 
     "outputs": [
      {
       "output_type": "pyout", 
       "prompt_number": 12, 
       "text": [
        "<bound method DataFrame.std of           A         B         C         D", 
        "0 -1.695780 -0.748147 -0.465062  0.019933", 
        "1  1.065694  0.762975  0.474578 -1.456386", 
        "2  1.090184 -0.783491 -0.287129 -0.143959", 
        "3 -0.837097  0.857120 -0.529560 -0.367608", 
        "4 -0.428451 -0.552392 -0.341870  1.463698", 
        "5 -0.047289 -0.703735 -0.651187 -0.140419", 
        "6 -0.341004  0.196211  0.056054  1.842559", 
        "7 -0.956882  1.140685  2.396820  0.197366", 
        "8 -0.049956  1.153160  0.559159  0.631989", 
        "9 -0.584671 -1.362066 -1.875989 -1.516275>"
       ]
      }
     ], 
     "prompt_number": 12
    }, 
    {
     "cell_type": "code", 
     "collapsed": true, 
     "input": [
      "s = df.describe()"
     ], 
     "language": "python", 
     "outputs": [], 
     "prompt_number": 13
    }, 
    {
     "cell_type": "code", 
     "collapsed": false, 
     "input": [
      "s"
     ], 
     "language": "python", 
     "outputs": [
      {
       "output_type": "pyout", 
       "prompt_number": 14, 
       "text": [
        "               A          B          C          D", 
        "count  10.000000  10.000000  10.000000  10.000000", 
        "mean   -0.278525  -0.003968  -0.066419   0.053090", 
        "std     0.861968   0.931859   1.099549   1.082371", 
        "min    -1.695780  -1.362066  -1.875989  -1.516275", 
        "25%    -0.773990  -0.737044  -0.513435  -0.311695", 
        "50%    -0.384727  -0.178090  -0.314500  -0.060243", 
        "75%    -0.047955   0.833584   0.369947   0.523333", 
        "max     1.090184   1.153160   2.396820   1.842559"
       ]
      }
     ], 
     "prompt_number": 14
    }, 
    {
     "cell_type": "code", 
     "collapsed": false, 
     "input": [
      "s.index=='count'"
     ], 
     "language": "python", 
     "outputs": [
      {
       "output_type": "pyout", 
       "prompt_number": 15, 
       "text": [
        "array([ True, False, False, False, False, False, False, False], dtype=bool)"
       ]
      }
     ], 
     "prompt_number": 15
    }, 
    {
     "cell_type": "code", 
     "collapsed": false, 
     "input": [
      "s.ix[\"std\",:]"
     ], 
     "language": "python", 
     "outputs": [
      {
       "output_type": "pyout", 
       "prompt_number": 16, 
       "text": [
        "A    0.861968", 
        "B    0.931859", 
        "C    1.099549", 
        "D    1.082371", 
        "Name: std"
       ]
      }
     ], 
     "prompt_number": 16
    }, 
    {
     "cell_type": "code", 
     "collapsed": false, 
     "input": [
      "type(s.ix['std',:])"
     ], 
     "language": "python", 
     "outputs": [
      {
       "output_type": "pyout", 
       "prompt_number": 17, 
       "text": [
        "pandas.core.series.Series"
       ]
      }
     ], 
     "prompt_number": 17
    }, 
    {
     "cell_type": "code", 
     "collapsed": false, 
     "input": [
      "df"
     ], 
     "language": "python", 
     "outputs": [
      {
       "output_type": "pyout", 
       "prompt_number": 18, 
       "text": [
        "          A         B         C         D", 
        "0 -1.695780 -0.748147 -0.465062  0.019933", 
        "1  1.065694  0.762975  0.474578 -1.456386", 
        "2  1.090184 -0.783491 -0.287129 -0.143959", 
        "3 -0.837097  0.857120 -0.529560 -0.367608", 
        "4 -0.428451 -0.552392 -0.341870  1.463698", 
        "5 -0.047289 -0.703735 -0.651187 -0.140419", 
        "6 -0.341004  0.196211  0.056054  1.842559", 
        "7 -0.956882  1.140685  2.396820  0.197366", 
        "8 -0.049956  1.153160  0.559159  0.631989", 
        "9 -0.584671 -1.362066 -1.875989 -1.516275"
       ]
      }
     ], 
     "prompt_number": 18
    }, 
    {
     "cell_type": "code", 
     "collapsed": false, 
     "input": [
      "plt.hist(df['A'])"
     ], 
     "language": "python", 
     "outputs": [
      {
       "output_type": "pyout", 
       "prompt_number": 19, 
       "text": [
        "(array([1, 0, 1, 2, 2, 2, 0, 0, 0, 2]),", 
        " array([-1.69578044, -1.41718401, -1.13858757, -0.85999114, -0.5813947 ,", 
        "       -0.30279827, -0.02420183,  0.25439461,  0.53299104,  0.81158748,", 
        "        1.09018391]),", 
        " <a list of 10 Patch objects>)"
       ]
      }, 
      {
       "output_type": "display_data", 
       "png": "[encoded data removed]"
      }
     ], 
     "prompt_number": 19
    }, 
    {
     "cell_type": "code", 
     "collapsed": false, 
     "input": [
      "help(np.random.randn)"
     ], 
     "language": "python", 
     "outputs": [
      {
       "output_type": "stream", 
       "stream": "stdout", 
       "text": [
        "Help on built-in function randn:", 
        "", 
        "randn(...)", 
        "    randn([d1, ..., dn])", 
        "    ", 
        "    Return a sample (or samples) from the \"standard normal\" distribution.", 
        "    ", 
        "    If positive, int_like or int-convertible arguments are provided,", 
        "    `randn` generates an array of shape ``(d1, ..., dn)``, filled", 
        "    with random floats sampled from a univariate \"normal\" (Gaussian)", 
        "    distribution of mean 0 and variance 1 (if any of the :math:`d_i` are", 
        "    floats, they are first converted to integers by truncation). A single", 
        "    float randomly sampled from the distribution is returned if no", 
        "    argument is provided.", 
        "    ", 
        "    This is a convenience function.  If you want an interface that takes a", 
        "    tuple as the first argument, use `numpy.random.standard_normal` instead.", 
        "    ", 
        "    Parameters", 
        "    ----------", 
        "    d1, ..., dn : `n` ints, optional", 
        "        The dimensions of the returned array, should be all positive.", 
        "    ", 
        "    Returns", 
        "    -------", 
        "    Z : ndarray or float", 
        "        A ``(d1, ..., dn)``-shaped array of floating-point samples from", 
        "        the standard normal distribution, or a single such float if", 
        "        no parameters were supplied.", 
        "    ", 
        "    See Also", 
        "    --------", 
        "    random.standard_normal : Similar, but takes a tuple as its argument.", 
        "    ", 
        "    Notes", 
        "    -----", 
        "    For random samples from :math:`N(\\mu, \\sigma^2)`, use:", 
        "    ", 
        "    ``sigma * np.random.randn(...) + mu``", 
        "    ", 
        "    Examples", 
        "    --------", 
        "    >>> np.random.randn()", 
        "    2.1923875335537315 #random", 
        "    ", 
        "    Two-by-four array of samples from N(3, 6.25):", 
        "    ", 
        "    >>> 2.5 * np.random.randn(2, 4) + 3", 
        "    array([[-4.49401501,  4.00950034, -1.81814867,  7.29718677],  #random", 
        "           [ 0.39924804,  4.68456316,  4.99394529,  4.84057254]]) #random"
       ]
      }
     ], 
     "prompt_number": 20
    }, 
    {
     "cell_type": "code", 
     "collapsed": false, 
     "input": [
      "np.random.normal(2,2,[10,2])"
     ], 
     "language": "python", 
     "outputs": [
      {
       "output_type": "pyout", 
       "prompt_number": 21, 
       "text": [
        "array([[ 3.72270421,  2.28468143],", 
        "       [ 1.71894549,  3.90728872],", 
        "       [ 4.89377576,  5.06598711],", 
        "       [ 2.34309151,  1.58156299],", 
        "       [ 0.90377115,  1.10278928],", 
        "       [-0.36930882, -0.08622643],", 
        "       [ 1.40422421,  2.03793796],", 
        "       [ 0.45621239,  3.26922877],", 
        "       [ 1.42037447,  0.29835033],", 
        "       [ 1.01506065, -3.60636997]])"
       ]
      }
     ], 
     "prompt_number": 21
    }, 
    {
     "cell_type": "code", 
     "collapsed": true, 
     "input": [
      "df = pd.read_csv('/home/natalino/Downloads/datingTestSet2.txt', sep='\\t',header=None)"
     ], 
     "language": "python", 
     "outputs": [], 
     "prompt_number": 22
    }, 
    {
     "cell_type": "code", 
     "collapsed": false, 
     "input": [
      "df"
     ], 
     "language": "python", 
     "outputs": [
      {
       "output_type": "pyout", 
       "prompt_number": 23, 
       "text": [
        "<class 'pandas.core.frame.DataFrame'>", 
        "Int64Index: 1000 entries, 0 to 999", 
        "Data columns:", 
        "X.1    1000  non-null values", 
        "X.2    1000  non-null values", 
        "X.3    1000  non-null values", 
        "X.4    1000  non-null values", 
        "dtypes: float64(2), int64(2)"
       ]
      }
     ], 
     "prompt_number": 23
    }, 
    {
     "cell_type": "code", 
     "collapsed": false, 
     "input": [
      "plt.scatter(df['X.1'], df['X.2'], c=df['X.4'], s=10*df['X.4'])", 
      "plt.xlabel('abs')", 
      "plt.ylabel('qwe')"
     ], 
     "language": "python", 
     "outputs": [
      {
       "output_type": "pyout", 
       "prompt_number": 24, 
       "text": [
        "<matplotlib.text.Text at 0x44ffc10>"
       ]
      }, 
      {
       "output_type": "display_data", 
       "png": "[encoded data removed]"
      }
     ], 
     "prompt_number": 24
    }, 
    {
     "cell_type": "code", 
     "collapsed": true, 
     "input": [], 
     "language": "python", 
     "outputs": []
    }
   ]
  }
 ]
}